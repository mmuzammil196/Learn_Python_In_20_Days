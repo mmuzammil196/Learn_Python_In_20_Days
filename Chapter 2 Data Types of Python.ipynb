{
 "cells": [
  {
   "cell_type": "code",
   "execution_count": 1,
   "metadata": {},
   "outputs": [],
   "source": [
    "# Data Types in python.\n",
    "# 1. (Text Type) : str\n",
    "# 2. (numeric Types) : int , float, complex\n",
    "# 3. (Sequence Types) : list , tuple, range\n",
    "# 4. (Mapping Type) : dict\n",
    "# 5. (Set Types) : set, frozenset\n",
    "# 6. (Boolean Type) : bool\n",
    "# 7. (Binary Types) : bytes memoryview, bytearray"
   ]
  },
  {
   "cell_type": "code",
   "execution_count": 2,
   "metadata": {},
   "outputs": [
    {
     "name": "stdout",
     "output_type": "stream",
     "text": [
      "Hello\n",
      "Hello\n"
     ]
    }
   ],
   "source": [
    "# Python Data Types.\n",
    "# 1. (Text Type)\n",
    "# (String Literals) :- \n",
    "\n",
    "print('Hello')\n",
    "print(\"Hello\")"
   ]
  },
  {
   "cell_type": "code",
   "execution_count": 3,
   "metadata": {},
   "outputs": [
    {
     "name": "stdout",
     "output_type": "stream",
     "text": [
      "Hello\n"
     ]
    }
   ],
   "source": [
    "a = \"Hello\"\n",
    "print(a)"
   ]
  },
  {
   "cell_type": "code",
   "execution_count": 4,
   "metadata": {},
   "outputs": [
    {
     "name": "stdout",
     "output_type": "stream",
     "text": [
      "I'm learning Python. I refer to TeachBeamers.com tutorials. It is the most popular site for python programmers.\n"
     ]
    }
   ],
   "source": [
    "# Multiline string\n",
    "a = \"\"\"I'm learning Python. I refer to TeachBeamers.com tutorials. It is the most popular site for python programmers.\"\"\"\n",
    "print(a)"
   ]
  },
  {
   "cell_type": "code",
   "execution_count": 5,
   "metadata": {},
   "outputs": [
    {
     "name": "stdout",
     "output_type": "stream",
     "text": [
      "1\n",
      "2.8\n",
      "1j\n"
     ]
    }
   ],
   "source": [
    "# 2 Numeric Data Types\n",
    "# a. integer\n",
    "# b. float\n",
    "# c. complex\n",
    "\n",
    "x = 1    # int\n",
    "y = 2.8  # float\n",
    "z = 1j   # complex\n",
    "\n",
    "print(x)\n",
    "print(y)\n",
    "print(z)"
   ]
  },
  {
   "cell_type": "code",
   "execution_count": 6,
   "metadata": {},
   "outputs": [
    {
     "name": "stdout",
     "output_type": "stream",
     "text": [
      "<class 'int'>\n",
      "<class 'int'>\n",
      "<class 'int'>\n"
     ]
    }
   ],
   "source": [
    "# a. int datatype\n",
    "x = 1\n",
    "y = 356567849\n",
    "z = -435252\n",
    "\n",
    "print(type(x))\n",
    "print(type(y))\n",
    "print(type(z))"
   ]
  },
  {
   "cell_type": "code",
   "execution_count": 7,
   "metadata": {},
   "outputs": [
    {
     "name": "stdout",
     "output_type": "stream",
     "text": [
      "<class 'float'>\n",
      "<class 'float'>\n",
      "<class 'float'>\n"
     ]
    }
   ],
   "source": [
    "# b. float datatypes\n",
    "x = 1.10\n",
    "y = 1.0\n",
    "z = -35.59\n",
    "\n",
    "print(type(x))\n",
    "print(type(y))\n",
    "print(type(z))"
   ]
  },
  {
   "cell_type": "code",
   "execution_count": 8,
   "metadata": {},
   "outputs": [
    {
     "name": "stdout",
     "output_type": "stream",
     "text": [
      "<class 'complex'>\n",
      "<class 'complex'>\n",
      "<class 'complex'>\n"
     ]
    }
   ],
   "source": [
    "# c. complex\n",
    "x = 3+5j\n",
    "y = 4j\n",
    "z = -3j\n",
    "\n",
    "print(type(x))\n",
    "print(type(y))\n",
    "print(type(z))"
   ]
  },
  {
   "cell_type": "code",
   "execution_count": 9,
   "metadata": {},
   "outputs": [
    {
     "name": "stdout",
     "output_type": "stream",
     "text": [
      "['apple', 'banana', 'cherry']\n"
     ]
    }
   ],
   "source": [
    "# 3. Sequence Datatypes\n",
    "# a. List\n",
    "thislist = [\"apple\", \"banana\", \"cherry\"]\n",
    "print(thislist)"
   ]
  },
  {
   "cell_type": "code",
   "execution_count": 10,
   "metadata": {},
   "outputs": [
    {
     "name": "stdout",
     "output_type": "stream",
     "text": [
      "apple\n",
      "banana\n",
      "cherry\n"
     ]
    }
   ],
   "source": [
    "# a. list indexing\n",
    "thislist = [\"apple\", \"banana\", \"cherry\"]\n",
    "print(thislist[0])\n",
    "print(thislist[1])\n",
    "print(thislist[2])"
   ]
  },
  {
   "cell_type": "code",
   "execution_count": 11,
   "metadata": {},
   "outputs": [
    {
     "name": "stdout",
     "output_type": "stream",
     "text": [
      "cherry\n",
      "banana\n",
      "apple\n"
     ]
    }
   ],
   "source": [
    "# a. list negative indexing\n",
    "thislist = [\"apple\", \"banana\", \"cherry\"]\n",
    "print(thislist[-1])\n",
    "print(thislist[-2])\n",
    "print(thislist[-3])"
   ]
  },
  {
   "cell_type": "code",
   "execution_count": 12,
   "metadata": {},
   "outputs": [
    {
     "name": "stdout",
     "output_type": "stream",
     "text": [
      "['apple', 'banana']\n"
     ]
    }
   ],
   "source": [
    "# a. list indexing Range\n",
    "thislist = [\"apple\", \"banana\", \"cherry\", \"mango\", \"kiwi\", \"orange\"]\n",
    "print(thislist[0:2])"
   ]
  },
  {
   "cell_type": "code",
   "execution_count": 13,
   "metadata": {},
   "outputs": [
    {
     "name": "stdout",
     "output_type": "stream",
     "text": [
      "banana\n"
     ]
    }
   ],
   "source": [
    "# 3. Tuple Datatype\n",
    "thistuple = (\"apple\", \"banana\", \"cherry\")\n",
    "print(thistuple[1])"
   ]
  },
  {
   "cell_type": "code",
   "execution_count": 14,
   "metadata": {},
   "outputs": [
    {
     "name": "stdout",
     "output_type": "stream",
     "text": [
      "{'brand': 'Ford', 'model': 'Mustang', 'year': 1964}\n"
     ]
    }
   ],
   "source": [
    "# 4. Mapping / Dictionary Datatype\n",
    "thisdict = {\"brand\" : \"Ford\",\n",
    "            \"model\" : \"Mustang\",\n",
    "            \"year\"  :  1964\n",
    "           }\n",
    "print(thisdict)"
   ]
  },
  {
   "cell_type": "code",
   "execution_count": 15,
   "metadata": {},
   "outputs": [
    {
     "name": "stdout",
     "output_type": "stream",
     "text": [
      "{'brand': 'Ford', 'model': 'Mustang', 'year': 1964}\n",
      "Mustang\n"
     ]
    }
   ],
   "source": [
    "# 4. Mapping / Dictionary Datatype\n",
    "# another example\n",
    "thisdict = {\"brand\" : \"Ford\",\n",
    "            \"model\" : \"Mustang\",\n",
    "            \"year\"  :  1964\n",
    "           }\n",
    "x = thisdict[\"model\"]\n",
    "print(thisdict)\n",
    "print(x)"
   ]
  },
  {
   "cell_type": "code",
   "execution_count": 16,
   "metadata": {},
   "outputs": [
    {
     "name": "stdout",
     "output_type": "stream",
     "text": [
      "{'apple', 'cherry', 'banana'}\n"
     ]
    }
   ],
   "source": [
    "# 6. (Set Types)\n",
    "# set, frozenset\n",
    "\n",
    "thisset = {\"apple\", \"banana\", \"cherry\"}\n",
    "print(thisset)"
   ]
  },
  {
   "cell_type": "code",
   "execution_count": 17,
   "metadata": {},
   "outputs": [
    {
     "name": "stdout",
     "output_type": "stream",
     "text": [
      "{'orange', 'apple', 'cherry', 'banana'}\n"
     ]
    }
   ],
   "source": [
    "# 6. (Set Types)\n",
    "# set, frozenset\n",
    "# add method to add any value or string\n",
    "\n",
    "thisset = {\"apple\", \"banana\", \"cherry\"}\n",
    "thisset.add(\"orange\")\n",
    "print(thisset)"
   ]
  },
  {
   "cell_type": "code",
   "execution_count": 18,
   "metadata": {},
   "outputs": [
    {
     "name": "stdout",
     "output_type": "stream",
     "text": [
      "{'cherry', 'banana', 'orange', 'grapes', 'apple', 'mango'}\n",
      "6\n"
     ]
    }
   ],
   "source": [
    "# 5. (Set Types)\n",
    "# set, frozenset\n",
    "# update method to add any value or string more than 1 times\n",
    "# length for any set len method\n",
    "\n",
    "thisset = {\"apple\", \"banana\", \"cherry\"}\n",
    "thisset.update([\"orange\", \"mango\", \"grapes\"])\n",
    "print(thisset)\n",
    "print(len(thisset))"
   ]
  },
  {
   "cell_type": "code",
   "execution_count": 19,
   "metadata": {},
   "outputs": [
    {
     "name": "stdout",
     "output_type": "stream",
     "text": [
      "{'apple', 'cherry'}\n"
     ]
    }
   ],
   "source": [
    "# 5. (Set Types)\n",
    "# set, frozenset \n",
    "# remove or discard() method for remove any item from set\n",
    "\n",
    "thisset = {\"apple\", \"banana\", \"cherry\"}\n",
    "thisset.remove(\"banana\")\n",
    "print(thisset)"
   ]
  },
  {
   "cell_type": "code",
   "execution_count": 20,
   "metadata": {},
   "outputs": [
    {
     "ename": "AttributeError",
     "evalue": "'frozenset' object has no attribute 'remove'",
     "output_type": "error",
     "traceback": [
      "\u001b[1;31m---------------------------------------------------------------------------\u001b[0m",
      "\u001b[1;31mAttributeError\u001b[0m                            Traceback (most recent call last)",
      "\u001b[1;32m<ipython-input-20-c2010c4224a6>\u001b[0m in \u001b[0;36m<module>\u001b[1;34m\u001b[0m\n\u001b[0;32m      4\u001b[0m \u001b[1;33m\u001b[0m\u001b[0m\n\u001b[0;32m      5\u001b[0m \u001b[0mcities\u001b[0m \u001b[1;33m=\u001b[0m \u001b[0mfrozenset\u001b[0m\u001b[1;33m(\u001b[0m\u001b[1;33m[\u001b[0m\u001b[1;34m\"karachi\"\u001b[0m\u001b[1;33m,\u001b[0m \u001b[1;34m\"lahore\"\u001b[0m\u001b[1;33m,\u001b[0m \u001b[1;34m\"islamabad\"\u001b[0m\u001b[1;33m]\u001b[0m\u001b[1;33m)\u001b[0m\u001b[1;33m\u001b[0m\u001b[1;33m\u001b[0m\u001b[0m\n\u001b[1;32m----> 6\u001b[1;33m \u001b[0mcities\u001b[0m\u001b[1;33m.\u001b[0m\u001b[0mremove\u001b[0m\u001b[1;33m(\u001b[0m\u001b[1;34m\"karachi\"\u001b[0m\u001b[1;33m)\u001b[0m\u001b[1;33m\u001b[0m\u001b[1;33m\u001b[0m\u001b[0m\n\u001b[0m\u001b[0;32m      7\u001b[0m \u001b[0mprint\u001b[0m\u001b[1;33m(\u001b[0m\u001b[0mcities\u001b[0m\u001b[1;33m)\u001b[0m\u001b[1;33m\u001b[0m\u001b[1;33m\u001b[0m\u001b[0m\n",
      "\u001b[1;31mAttributeError\u001b[0m: 'frozenset' object has no attribute 'remove'"
     ]
    }
   ],
   "source": [
    "# 5. (Set Types)\n",
    "# set, frozenset\n",
    "# frozenset same as set but you cannot add or remove any value or string using add method. not changeable.\n",
    "\n",
    "cities = frozenset([\"karachi\", \"lahore\", \"islamabad\"])\n",
    "cities.remove(\"karachi\")\n",
    "print(cities)"
   ]
  },
  {
   "cell_type": "code",
   "execution_count": 21,
   "metadata": {},
   "outputs": [
    {
     "name": "stdout",
     "output_type": "stream",
     "text": [
      "True\n",
      "False\n",
      "False\n"
     ]
    }
   ],
   "source": [
    "# 6. Boolean type bool:\n",
    "print(10 > 9)\n",
    "print(10 == 9)\n",
    "print(10 < 9)"
   ]
  },
  {
   "cell_type": "code",
   "execution_count": 22,
   "metadata": {},
   "outputs": [
    {
     "name": "stdout",
     "output_type": "stream",
     "text": [
      "b is greater than a\n"
     ]
    }
   ],
   "source": [
    "# 6 . bool type\n",
    "a = 200\n",
    "b = 300\n",
    "if b > a:\n",
    "    print(\"b is greater than a\")\n",
    "else:\n",
    "    print(\"b is not greater than a\")"
   ]
  },
  {
   "cell_type": "code",
   "execution_count": 23,
   "metadata": {},
   "outputs": [
    {
     "name": "stdout",
     "output_type": "stream",
     "text": [
      "b'pthon mapping table character'\n",
      "b'pthon mapping table character'\n",
      "b'pthon mapping table character'\n"
     ]
    }
   ],
   "source": [
    "# 7. Binary Types\n",
    "\n",
    "# a. bytes\n",
    "# single quotes.  b'hi \"harry\" how are you'\n",
    "# double quotes.  b\"hi 'harry' how are you\"\n",
    "# tripple quotes. b''' Hi 'harry' how are you '''\n",
    "\n",
    "# create a string\n",
    "# single quote\n",
    "x = b'pthon mapping table character'\n",
    "print(x)\n",
    "\n",
    "\n",
    "# Double quote\n",
    "y = b\"pthon mapping table character\"\n",
    "print(y)\n",
    "\n",
    "# tripple quote\n",
    "z = b'''pthon mapping table character'''\n",
    "print(z)"
   ]
  },
  {
   "cell_type": "code",
   "execution_count": 24,
   "metadata": {},
   "outputs": [
    {
     "name": "stdout",
     "output_type": "stream",
     "text": [
      "bytearray(b'Python is interesting')\n"
     ]
    }
   ],
   "source": [
    "# 7. binary types\n",
    "# b. bytearray\n",
    "\n",
    "# create a string\n",
    "string = \"Python is interesting\"\n",
    "# string with encoding 'utf-8'\n",
    "arr = bytearray(string, 'utf-8')\n",
    "print(arr)"
   ]
  },
  {
   "cell_type": "code",
   "execution_count": 25,
   "metadata": {},
   "outputs": [
    {
     "name": "stdout",
     "output_type": "stream",
     "text": [
      "2022-03-27 19:43:23.941631\n"
     ]
    }
   ],
   "source": [
    "# 8. Python Dates\n",
    "import datetime\n",
    "x = datetime.datetime.now()\n",
    "print(x)"
   ]
  },
  {
   "cell_type": "code",
   "execution_count": 26,
   "metadata": {},
   "outputs": [
    {
     "name": "stdout",
     "output_type": "stream",
     "text": [
      "2022\n",
      "Sunday\n"
     ]
    }
   ],
   "source": [
    "# 8. Python Dates\n",
    "import datetime\n",
    "x = datetime.datetime.now()\n",
    "\n",
    "# extract year and Day from date\n",
    "print(x.year)\n",
    "print(x.strftime(\"%A\"))"
   ]
  },
  {
   "cell_type": "code",
   "execution_count": 27,
   "metadata": {},
   "outputs": [
    {
     "name": "stdout",
     "output_type": "stream",
     "text": [
      "Day 27\n",
      "Month 03\n",
      "Year 2022\n",
      "19:43:24\n",
      "Date and Time 03/27/2022, 19:43:24\n"
     ]
    }
   ],
   "source": [
    "# 8. Python Dates\n",
    "import datetime\n",
    "x = datetime.datetime.now() # current date and time\n",
    "\n",
    "year = x.strftime(\"%Y\")  # extract year\n",
    "month = x.strftime(\"%m\") # extract month\n",
    "day = x.strftime(\"%d\")   # extract day\n",
    "\n",
    "print(\"Day\", day) \n",
    "print(\"Month\", month)\n",
    "print(\"Year\", year)\n",
    "\n",
    "time = x.strftime(\"%H:%M:%S\") # extract time\n",
    "print(time)\n",
    "\n",
    "date_time = x.strftime(\"%m/%d/%Y, %H:%M:%S\") # extract date and time\n",
    "print(\"Date and Time\", date_time)"
   ]
  },
  {
   "cell_type": "code",
   "execution_count": 28,
   "metadata": {},
   "outputs": [
    {
     "name": "stdout",
     "output_type": "stream",
     "text": [
      "Date and Time 2022-03-27 19:43:24.679172\n",
      "Time 19:43:24\n",
      "S1 03-27-19:43:24\n",
      "S2 27-03-19:43:24\n",
      "S3 Sunday-March-2022\n"
     ]
    }
   ],
   "source": [
    "# 8. Date type\n",
    "# example\n",
    "\n",
    "from datetime import datetime\n",
    "\n",
    "# current date and time\n",
    "now = datetime.now()\n",
    "print(\"Date and Time\", now)\n",
    "\n",
    "t   = now.strftime(\"%H:%M:%S\")\n",
    "print(\"Time\", t)\n",
    "\n",
    "# mm-dd-YY format\n",
    "s1 = now.strftime(\"%m-%d-%T\")\n",
    "print(\"S1\", s1)\n",
    "\n",
    "# dd-mm-YY format\n",
    "s2 = now.strftime(\"%d-%m-%T\")\n",
    "print(\"S2\", s2)\n",
    "\n",
    "# Day-Month-YY format\n",
    "s3 = now.strftime(\"%A-%B-%Y\")\n",
    "print(\"S3\", s3)"
   ]
  }
 ],
 "metadata": {
  "kernelspec": {
   "display_name": "Python 3",
   "language": "python",
   "name": "python3"
  }
 },
 "nbformat": 4,
 "nbformat_minor": 4
}
