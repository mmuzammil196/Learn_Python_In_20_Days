{
 "cells": [
  {
   "cell_type": "markdown",
   "metadata": {},
   "source": [
    "#  Python Functions"
   ]
  },
  {
   "cell_type": "code",
   "execution_count": 1,
   "metadata": {},
   "outputs": [],
   "source": [
    "# 1. Creating a Function\n",
    "def my_function():\n",
    "    print(\"Hello from a Function\")"
   ]
  },
  {
   "cell_type": "code",
   "execution_count": 2,
   "metadata": {},
   "outputs": [
    {
     "name": "stdout",
     "output_type": "stream",
     "text": [
      "Hello from a Function\n"
     ]
    }
   ],
   "source": [
    "# 2. Call a Function\n",
    "my_function()"
   ]
  },
  {
   "cell_type": "code",
   "execution_count": 3,
   "metadata": {},
   "outputs": [
    {
     "name": "stdout",
     "output_type": "stream",
     "text": [
      "Emily Robert\n",
      "John Robert\n",
      "Julia Robert\n"
     ]
    }
   ],
   "source": [
    "# 3. create function, pass arguments and call function\n",
    "def name_func(fname):\n",
    "    print(fname + \" Robert\")\n",
    "name_func(\"Emily\")\n",
    "name_func(\"John\")\n",
    "name_func(\"Julia\")"
   ]
  },
  {
   "cell_type": "code",
   "execution_count": 4,
   "metadata": {},
   "outputs": [
    {
     "name": "stdout",
     "output_type": "stream",
     "text": [
      "Emily Robert\n"
     ]
    }
   ],
   "source": [
    "# 4. Numbers of Arguments in function\n",
    "def my_func(fname, lname):\n",
    "    print(fname + \" \" +lname)\n",
    "my_func(\"Emily\", \"Robert\")"
   ]
  },
  {
   "cell_type": "code",
   "execution_count": 5,
   "metadata": {},
   "outputs": [
    {
     "name": "stdout",
     "output_type": "stream",
     "text": [
      "From Finland\n",
      "From Pakistan\n",
      "From Turkey\n"
     ]
    }
   ],
   "source": [
    "# 5. Default parameter in function\n",
    "def my_func_with_default(country = \"Finland\"):\n",
    "    print(\"From \" + country)\n",
    "my_func_with_default()\n",
    "my_func_with_default(\"Pakistan\")\n",
    "my_func_with_default(\"Turkey\")"
   ]
  },
  {
   "cell_type": "code",
   "execution_count": 6,
   "metadata": {},
   "outputs": [
    {
     "name": "stdout",
     "output_type": "stream",
     "text": [
      "Youngest Child is Warner\n"
     ]
    }
   ],
   "source": [
    "# 6. arbitary Argument in function using *\n",
    "def func_with_arbitrary(*kids):\n",
    "    print(\"Youngest Child is \" + kids[3])\n",
    "func_with_arbitrary(\"Harry\", \"David\", \"Mike\", \"Warner\")"
   ]
  },
  {
   "cell_type": "code",
   "execution_count": 7,
   "metadata": {},
   "outputs": [
    {
     "name": "stdout",
     "output_type": "stream",
     "text": [
      "Youngest Child is David\n"
     ]
    }
   ],
   "source": [
    "# 7. Keyword Argument in Function\n",
    "def func_with_argument(child1, child2):\n",
    "    print(\"Youngest Child is \" + child2)\n",
    "func_with_argument(child1 = \"Harry\", child2 = \"David\")"
   ]
  },
  {
   "cell_type": "code",
   "execution_count": 8,
   "metadata": {},
   "outputs": [
    {
     "name": "stdout",
     "output_type": "stream",
     "text": [
      "Youngest Child is Robert\n"
     ]
    }
   ],
   "source": [
    "# 8. Arbitrary Keyword argument in function using **\n",
    "def func_arbitrary_arg(**kid):\n",
    "    print(\"Youngest Child is \" +kid[\"lname\"])\n",
    "func_arbitrary_arg(fname = \"John\", lname = \"Robert\")"
   ]
  },
  {
   "cell_type": "code",
   "execution_count": 9,
   "metadata": {},
   "outputs": [
    {
     "name": "stdout",
     "output_type": "stream",
     "text": [
      "apple\n",
      "banana\n",
      "cherry\n"
     ]
    }
   ],
   "source": [
    "# 9. Passing a List as an Argument in Function\n",
    "def func_pass_list(food):\n",
    "    for x in food:\n",
    "        print(x)\n",
    "fruits = [\"apple\", \"banana\", \"cherry\"]\n",
    "func_pass_list(fruits)"
   ]
  },
  {
   "cell_type": "code",
   "execution_count": 10,
   "metadata": {},
   "outputs": [
    {
     "data": {
      "text/plain": [
       "20"
      ]
     },
     "execution_count": 10,
     "metadata": {},
     "output_type": "execute_result"
    }
   ],
   "source": [
    "# 10. Return values in function\n",
    "def ret_val(x):\n",
    "    return x * 5\n",
    "ret_val(4)"
   ]
  },
  {
   "cell_type": "code",
   "execution_count": 11,
   "metadata": {},
   "outputs": [
    {
     "name": "stdout",
     "output_type": "stream",
     "text": [
      "\n",
      "\n",
      "Recursion Example Result\n",
      "1\n",
      "3\n",
      "6\n",
      "10\n",
      "15\n",
      "21\n"
     ]
    },
    {
     "data": {
      "text/plain": [
       "21"
      ]
     },
     "execution_count": 11,
     "metadata": {},
     "output_type": "execute_result"
    }
   ],
   "source": [
    "# 11. Recursion in function\n",
    "def func_recursion(k):\n",
    "    if(k>0):\n",
    "        result = k + func_recursion(k-1)\n",
    "        print(result)\n",
    "    else:\n",
    "        result = 0\n",
    "    return result\n",
    "print(\"\\n\\nRecursion Example Result\")\n",
    "func_recursion(6)"
   ]
  },
  {
   "cell_type": "code",
   "execution_count": 12,
   "metadata": {},
   "outputs": [
    {
     "name": "stdout",
     "output_type": "stream",
     "text": [
      "15\n"
     ]
    }
   ],
   "source": [
    "# 12. Lambda\n",
    "# lambda arguments : expression\n",
    "x = lambda a : a + 10\n",
    "print(x(5))"
   ]
  },
  {
   "cell_type": "code",
   "execution_count": 13,
   "metadata": {},
   "outputs": [
    {
     "name": "stdout",
     "output_type": "stream",
     "text": [
      "25\n"
     ]
    }
   ],
   "source": [
    "# 12.lamba \n",
    "# example 2\n",
    "y = lambda a,b : a * b \n",
    "print(y(5,5))"
   ]
  },
  {
   "cell_type": "code",
   "execution_count": 14,
   "metadata": {},
   "outputs": [
    {
     "name": "stdout",
     "output_type": "stream",
     "text": [
      "4\n"
     ]
    }
   ],
   "source": [
    "# 13. let's use lambda argument in function\n",
    "def func_lambda(n):\n",
    "    return lambda a: a * n\n",
    "mydoubler = func_lambda(2)\n",
    "print(mydoubler(2))"
   ]
  },
  {
   "cell_type": "code",
   "execution_count": 15,
   "metadata": {},
   "outputs": [
    {
     "name": "stdout",
     "output_type": "stream",
     "text": [
      "6\n"
     ]
    }
   ],
   "source": [
    "# 13. let's use lambda argument in function\n",
    "# example 2\n",
    "def func_lambda(n):\n",
    "    return lambda a: a * n\n",
    "mytriple = func_lambda(2)\n",
    "print(mytriple(3))"
   ]
  },
  {
   "cell_type": "code",
   "execution_count": 16,
   "metadata": {},
   "outputs": [
    {
     "name": "stdout",
     "output_type": "stream",
     "text": [
      "22\n",
      "33\n"
     ]
    }
   ],
   "source": [
    "# let's call lambda function in this cell\n",
    "mydoubler = func_lambda(11)\n",
    "mytriple = func_lambda(11)\n",
    "print(mydoubler(2))\n",
    "print(mytriple(3))"
   ]
  },
  {
   "cell_type": "code",
   "execution_count": null,
   "metadata": {},
   "outputs": [],
   "source": []
  }
 ],
 "metadata": {
  "kernelspec": {
   "display_name": "Python 3",
   "language": "python",
   "name": "python3"
  },
  "language_info": {
   "codemirror_mode": {
    "name": "ipython",
    "version": 3
   },
   "file_extension": ".py",
   "mimetype": "text/x-python",
   "name": "python",
   "nbconvert_exporter": "python",
   "pygments_lexer": "ipython3",
   "version": "3.8.5"
  }
 },
 "nbformat": 4,
 "nbformat_minor": 4
}
